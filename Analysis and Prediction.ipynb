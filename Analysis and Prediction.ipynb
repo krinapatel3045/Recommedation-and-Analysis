{
 "cells": [
  {
   "cell_type": "code",
   "execution_count": 1,
   "id": "2373e168",
   "metadata": {},
   "outputs": [],
   "source": [
    "import pandas as pd\n",
    "import numpy as np\n",
    "from numpy import random\n",
    "from sklearn import metrics\n",
    "from sklearn import tree\n",
    "from sklearn.tree import DecisionTreeClassifier\n",
    "from sklearn.model_selection import train_test_split\n",
    "import re\n"
   ]
  },
  {
   "cell_type": "code",
   "execution_count": 2,
   "id": "62e72805",
   "metadata": {},
   "outputs": [],
   "source": [
    "df=pd.read_csv('F:/python for DS/train.csv')\n",
    "#droping those features which do not contribute to survival\n",
    "df=df.drop(['PassengerId','Ticket','Name'],axis=1)"
   ]
  },
  {
   "cell_type": "code",
   "execution_count": 3,
   "id": "1f0a7525",
   "metadata": {},
   "outputs": [],
   "source": [
    "#creating two more feature\n",
    "#1. relative =SibSp+Parch\n",
    "#2.individual= yes=0/ no=1\n",
    "df['relative']=df['SibSp']+df['Parch']\n",
    "df.loc[df['relative']>0,'individual']=0\n",
    "df.loc[df['relative']==0,'individual']=1\n",
    "df['individual']=df['individual'].astype(int)\n"
   ]
  },
  {
   "cell_type": "code",
   "execution_count": 4,
   "id": "15be0d9e",
   "metadata": {},
   "outputs": [],
   "source": [
    "#coverting cabin name into numeric according to their alphabetical order\n",
    "#e.g. a/A=1, b/=2\n",
    "alpha={'A':1,'B':2,'C':3,'D':4,'E':5,'F':6,'G':7}\n",
    "\n",
    "df['Cabin']=df['Cabin'].fillna('u0')\n",
    "df['newCabin']=df['Cabin'].map(lambda x:re.compile(\"([a-zA-Z])\").search(x).group())\n",
    "df['newCabin']=df['newCabin'].map(alpha)\n",
    "df['newCabin']=df['newCabin'].fillna(0)\n",
    "df['newCabin']=df['newCabin'].astype(int)\n",
    "\n",
    "df=df.drop(['Cabin'],axis=1)"
   ]
  },
  {
   "cell_type": "code",
   "execution_count": 5,
   "id": "77aa3c6f",
   "metadata": {},
   "outputs": [],
   "source": [
    "#filling empty rows in age column with mean of all ages\n",
    "fill_value=df['Age'].mean(skipna=True)\n",
    "df['Age']=df['Age'].fillna(fill_value)\n",
    "df['Age']=df['Age'].astype(int)\n",
    "\n",
    "#convert age into  different  intervals\n",
    "df.loc[df['Age']<=16 ,'Age']=0\n",
    "df.loc[(df['Age']>16) & (df['Age']<=32), 'Age']=1\n",
    "df.loc[(df['Age']>32) & (df['Age']<=48), 'Age']=2\n",
    "df.loc[(df['Age']>48) & (df['Age']<=64), 'Age']=3\n",
    "df.loc[df['Age']>64 , 'Age']=4\n",
    "\n"
   ]
  },
  {
   "cell_type": "code",
   "execution_count": 6,
   "id": "08433298",
   "metadata": {},
   "outputs": [],
   "source": [
    "#filling empty rows in embarked by their most occuring value\n",
    "\n",
    "most_occured='S'\n",
    "df['Embarked']=df['Embarked'].fillna(most_occured)\n",
    "embark={'S':1,'C':2,'Q':3}\n",
    "df['Embarked']=df['Embarked'].map(embark)\n"
   ]
  },
  {
   "cell_type": "code",
   "execution_count": 7,
   "id": "13ed80f7",
   "metadata": {},
   "outputs": [],
   "source": [
    "#coverting fare float value to int and 0 to empty rows\n",
    "df['Fare']=df['Fare'].astype(int)\n",
    "df['Fare']=df['Fare'].fillna(0)\n"
   ]
  },
  {
   "cell_type": "code",
   "execution_count": 8,
   "id": "3dd472c0",
   "metadata": {},
   "outputs": [],
   "source": [
    "#coverting gender value into integers\n",
    "gender={'male':0,'female':1}\n",
    "df['Sex']=df['Sex'].map(gender)\n"
   ]
  },
  {
   "cell_type": "code",
   "execution_count": 9,
   "id": "52aae22d",
   "metadata": {},
   "outputs": [
    {
     "name": "stdout",
     "output_type": "stream",
     "text": [
      "   Pclass  Sex  Age  Fare  Embarked  relative  individual\n",
      "0       3    0    1     7         1         1           0\n",
      "1       1    1    2    71         2         1           0\n",
      "2       3    1    1     7         1         0           1\n",
      "3       1    1    2    53         1         1           0\n",
      "4       3    0    2     8         1         0           1\n",
      "5       3    0    1     8         3         0           1\n",
      "6       1    0    3    51         1         0           1\n",
      "7       3    0    0    21         1         4           0\n",
      "8       3    1    1    11         1         2           0\n",
      "9       2    1    0    30         2         1           0\n"
     ]
    }
   ],
   "source": [
    "target=df['Survived']\n",
    "df=df.drop(['Survived','SibSp','Parch','newCabin'],axis=1)\n",
    "\n",
    "x_train,x_test,y_train,y_test=train_test_split(df,target,test_size=0.30,random_state=42)\n",
    "print(df.head(10))"
   ]
  },
  {
   "cell_type": "code",
   "execution_count": 10,
   "id": "7b57298c",
   "metadata": {},
   "outputs": [
    {
     "name": "stdout",
     "output_type": "stream",
     "text": [
      "DecisionTreeClassifier(criterion='entropy', max_depth=3)\n",
      "|--- feature_1 <= 0.50\n",
      "|   |--- feature_2 <= 0.50\n",
      "|   |   |--- feature_5 <= 4.00\n",
      "|   |   |   |--- class: 1\n",
      "|   |   |--- feature_5 >  4.00\n",
      "|   |   |   |--- class: 0\n",
      "|   |--- feature_2 >  0.50\n",
      "|   |   |--- feature_0 <= 1.50\n",
      "|   |   |   |--- class: 0\n",
      "|   |   |--- feature_0 >  1.50\n",
      "|   |   |   |--- class: 0\n",
      "|--- feature_1 >  0.50\n",
      "|   |--- feature_0 <= 2.50\n",
      "|   |   |--- feature_3 <= 148.50\n",
      "|   |   |   |--- class: 1\n",
      "|   |   |--- feature_3 >  148.50\n",
      "|   |   |   |--- class: 1\n",
      "|   |--- feature_0 >  2.50\n",
      "|   |   |--- feature_3 <= 23.50\n",
      "|   |   |   |--- class: 1\n",
      "|   |   |--- feature_3 >  23.50\n",
      "|   |   |   |--- class: 0\n",
      "\n",
      "accuracy for depth 3: 81.34328358208955\n"
     ]
    }
   ],
   "source": [
    "model=DecisionTreeClassifier(max_depth=3,splitter='best',criterion='entropy')\n",
    "model.fit(x_train,y_train)\n",
    "print(model)\n",
    "y_pred=model.predict(x_test)\n",
    "dt=tree.export_text(model)\n",
    "print(dt)\n",
    "print(\"accuracy for depth {}:\".format(3),metrics.accuracy_score(y_test,y_pred)*100)"
   ]
  },
  {
   "cell_type": "code",
   "execution_count": null,
   "id": "688ca3d1",
   "metadata": {},
   "outputs": [],
   "source": []
  },
  {
   "cell_type": "code",
   "execution_count": null,
   "id": "b4b6c8b0",
   "metadata": {},
   "outputs": [],
   "source": []
  }
 ],
 "metadata": {
  "kernelspec": {
   "display_name": "Python 3",
   "language": "python",
   "name": "python3"
  },
  "language_info": {
   "codemirror_mode": {
    "name": "ipython",
    "version": 3
   },
   "file_extension": ".py",
   "mimetype": "text/x-python",
   "name": "python",
   "nbconvert_exporter": "python",
   "pygments_lexer": "ipython3",
   "version": "3.8.8"
  }
 },
 "nbformat": 4,
 "nbformat_minor": 5
}
